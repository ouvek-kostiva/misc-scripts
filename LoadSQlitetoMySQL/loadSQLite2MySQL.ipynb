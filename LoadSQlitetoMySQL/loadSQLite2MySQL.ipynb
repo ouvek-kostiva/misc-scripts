{
 "cells": [
  {
   "cell_type": "code",
   "execution_count": 1,
   "metadata": {
    "collapsed": false
   },
   "outputs": [],
   "source": [
    "import sqlite3\n",
    "\n",
    "dbName = \"PriceVolData.db\"\n",
    "tableName = \"twse\"\n",
    "sqlconn = sqlite3.connect(dbName)\n",
    "sqlc = sqlconn.cursor()\n",
    "sqlout = sqlconn.execute(\"SELECT * FROM twse\")\n",
    "dalist = []\n",
    "for i in sqlout:\n",
    "    dalist.append([i])\n",
    "sqlconn.close()"
   ]
  },
  {
   "cell_type": "code",
   "execution_count": 2,
   "metadata": {
    "collapsed": false
   },
   "outputs": [
    {
     "name": "stdout",
     "output_type": "stream",
     "text": [
      "11 1101 2007-06-15 34.1 34.1 33.4 34.0 15418000.0\n",
      "12 1101 2007-06-20 35.65 36.4 34.15 34.5 30658000.0\n",
      "13 1101 2007-06-21 38.1 38.1 35.6 35.65 50992000.0\n",
      "14 1101 2007-06-22 36.75 38.0 36.5 38.0 17844000.0\n",
      "15 1101 2007-06-25 38.45 39.0 37.9 38.1 25740000.0\n"
     ]
    }
   ],
   "source": [
    "for item in dalist[10:15]:\n",
    "    ind = item[0][0]\n",
    "    cod = item[0][1]\n",
    "    dat = item[0][2][0:10]\n",
    "    clo = item[0][3]\n",
    "    hig = item[0][4]\n",
    "    low = item[0][5]\n",
    "    ope = item[0][6]\n",
    "    vol = item[0][7]\n",
    "    print(ind,cod,dat,clo,hig,low,ope,vol)"
   ]
  },
  {
   "cell_type": "code",
   "execution_count": 1,
   "metadata": {
    "collapsed": false
   },
   "outputs": [
    {
     "name": "stdout",
     "output_type": "stream",
     "text": [
      "\n"
     ]
    }
   ],
   "source": [
    "def insertMySQL(user,password,host,database,dataList=[]):\n",
    "    import mysql.connector\n",
    "    try:\n",
    "        cnx = mysql.connector.connect(user=user, password=password,\n",
    "                                      host=host,\n",
    "                                      database=database)\n",
    "        cursor = cnx.cursor()\n",
    "        count = 0\n",
    "        print(\"Start Connect\")\n",
    "        for item in dataList:\n",
    "            ind = item[0][0]\n",
    "            cod = item[0][1]\n",
    "            dat = item[0][2][0:10]\n",
    "            clo = item[0][3]\n",
    "            hig = item[0][4]\n",
    "            low = item[0][5]\n",
    "            ope = item[0][6]\n",
    "            vol = item[0][7]\n",
    "            insertQuery = (\"INSERT INTO twse \" #twse is the table name, you should change it (It didn't work when I tried with a variable)\n",
    "                           \"(`indexColumn` ,`code`, `date`, `close`, `high`, `low`, `open`, `volume`) \" #These are column names and should be changed \n",
    "                           \"VALUES (%s,%s,%s,%s,%s,%s,%s,%s)\")\n",
    "            dataStrings = (ind,cod,dat,clo,hig,low,ope,vol)\n",
    "            cursor.execute(insertQuery,dataStrings)\n",
    "            lastRow = cursor.lastrowid\n",
    "            count = count + 1\n",
    "            if (0 == count % 100):\n",
    "                cnx.commit()\n",
    "                print(\"Count:\",count)\n",
    "        cnx.commit()    \n",
    "        cursor.close()\n",
    "        print(lastRow)\n",
    "    except mysql.connector.Error as err:\n",
    "        if err.errno == errorcode.ER_ACCESS_DENIED_ERROR:\n",
    "            print(\"Something is wrong with your user name or password\")\n",
    "        elif err.errno == errorcode.ER_BAD_DB_ERROR:\n",
    "            print(\"Database does not exist\")\n",
    "        else:\n",
    "            print(err)\n",
    "    else:\n",
    "        cnx.close()\n",
    "             \n",
    "insertMySQL(\"\",\"\",\"\",\"\",dalist) #Test\n",
    "print(\"\")"
   ]
  }
 ],
 "metadata": {
  "kernelspec": {
   "display_name": "Python 3",
   "language": "python",
   "name": "python3"
  },
  "language_info": {
   "codemirror_mode": {
    "name": "ipython",
    "version": 3
   },
   "file_extension": ".py",
   "mimetype": "text/x-python",
   "name": "python",
   "nbconvert_exporter": "python",
   "pygments_lexer": "ipython3",
   "version": "3.6.0"
  }
 },
 "nbformat": 4,
 "nbformat_minor": 2
}
